{
  "nbformat": 4,
  "nbformat_minor": 0,
  "metadata": {
    "colab": {
      "provenance": [],
      "include_colab_link": true
    },
    "kernelspec": {
      "name": "python3",
      "display_name": "Python 3"
    },
    "language_info": {
      "name": "python"
    }
  },
  "cells": [
    {
      "cell_type": "markdown",
      "metadata": {
        "id": "view-in-github",
        "colab_type": "text"
      },
      "source": [
        "<a href=\"https://colab.research.google.com/github/sciencebyAJ/oet_gf_ti/blob/main/time_integration_gap_filling.ipynb\" target=\"_parent\"><img src=\"https://colab.research.google.com/assets/colab-badge.svg\" alt=\"Open In Colab\"/></a>"
      ]
    },
    {
      "cell_type": "code",
      "source": [
        "!git clone https://github.com/sciencebyAJ/oet_gf_ti.git"
      ],
      "metadata": {
        "colab": {
          "base_uri": "https://localhost:8080/"
        },
        "id": "GX25_64PupIG",
        "outputId": "c04f86a5-5115-4788-e889-b65cb820e5d4"
      },
      "execution_count": 1,
      "outputs": [
        {
          "output_type": "stream",
          "name": "stdout",
          "text": [
            "Cloning into 'oet_gf_ti'...\n",
            "remote: Enumerating objects: 95, done.\u001b[K\n",
            "remote: Counting objects: 100% (95/95), done.\u001b[K\n",
            "remote: Compressing objects: 100% (82/82), done.\u001b[K\n",
            "remote: Total 95 (delta 27), reused 11 (delta 4), pack-reused 0 (from 0)\u001b[K\n",
            "Receiving objects: 100% (95/95), 17.81 MiB | 5.00 MiB/s, done.\n",
            "Resolving deltas: 100% (27/27), done.\n",
            "Updating files: 100% (16/16), done.\n"
          ]
        }
      ]
    },
    {
      "cell_type": "code",
      "source": [
        "cd oet_gf_ti/"
      ],
      "metadata": {
        "colab": {
          "base_uri": "https://localhost:8080/"
        },
        "id": "amvVc9OmIDGi",
        "outputId": "1eca233d-f552-484b-e506-c0aa39bd6e13"
      },
      "execution_count": 2,
      "outputs": [
        {
          "output_type": "stream",
          "name": "stdout",
          "text": [
            "/content/oet_gf_ti\n"
          ]
        }
      ]
    },
    {
      "cell_type": "code",
      "source": [
        "from google.colab import drive\n",
        "drive.mount('/content/drive')"
      ],
      "metadata": {
        "colab": {
          "base_uri": "https://localhost:8080/"
        },
        "id": "g7bD0aDbQq9B",
        "outputId": "75218137-0c52-4e46-90f6-73a5051850c1"
      },
      "execution_count": 4,
      "outputs": [
        {
          "output_type": "stream",
          "name": "stdout",
          "text": [
            "Mounted at /content/drive\n"
          ]
        }
      ]
    },
    {
      "cell_type": "code",
      "execution_count": 6,
      "metadata": {
        "id": "CFYb5ijcvx8N"
      },
      "outputs": [],
      "source": [
        "import pandas as pd\n",
        "import glob\n",
        "import numpy as np\n",
        "import scipy.stats as stats\n",
        "import scipy.optimize as opt\n",
        "from scipy.interpolate import Akima1DInterpolator, CubicSpline, KroghInterpolator\n",
        "import requests\n",
        "import datetime\n",
        "import matplotlib.pyplot as plt\n",
        "import json\n",
        "from google.colab import userdata"
      ]
    },
    {
      "cell_type": "code",
      "source": [
        "import src.time_integration as ti\n",
        "import src.stats as stats"
      ],
      "metadata": {
        "id": "Qh_iwdaUK13Q"
      },
      "execution_count": 7,
      "outputs": []
    },
    {
      "cell_type": "code",
      "source": [
        "def interp_var(in_df,varname = 'clear_sky_EToF',refeto = 'site'):\n",
        "    all_df = in_df.copy()\n",
        "    all_df['xs']=np.arange(0,all_df.shape[0])+1\n",
        "    all_df['x'] = all_df['xs'].mask(np.isnan(all_df[varname]), np.nan)\n",
        "    all_df['week']=all_df.index.isocalendar().week\n",
        "    # linear interpolation\n",
        "    all_df[varname+'_linear']=all_df[varname].interpolate('linear',limit=32,limit_area='inside', limit_direction='both')\n",
        "    # akima interpolation (e.g. rolling spline)\n",
        "    x = np.array(all_df['x'])[~np.isnan(all_df['x'])]\n",
        "    y = np.array(all_df[varname])[~np.isnan(all_df[varname])]\n",
        "    xs = np.array(all_df['xs'])\n",
        "    y_akima = Akima1DInterpolator(x, y, method=\"akima\")(xs)\n",
        "    all_df[varname+'_Akima']=y_akima\n",
        "    all_df[varname+'_Akima']=all_df[varname+'_Akima'].mask(np.isnan(all_df[varname+'_linear']), np.nan)\n",
        "    # climatology interpolation\n",
        "    df_clim = all_df[[varname,'x']].copy()\n",
        "    df_clim[varname+'rm']=df_clim[varname].rolling(32,1,center=True).mean()\n",
        "    df_nonans = df_clim[[varname+'rm','x']].dropna()\n",
        "    X = np.array(df_nonans.x)\n",
        "    fit = np.polyfit(X, df_nonans[varname+'rm'], 1)\n",
        "    fit_fn = np.poly1d(fit)\n",
        "    all_df[varname+'linear_trend']= fit_fn(xs)\n",
        "    all_df[varname+'iav']=df_clim[varname+'rm']-all_df[varname+'linear_trend']\n",
        "    serClimModel = all_df[varname+'iav'].rolling(32,1,center=True).mean().groupby([all_df.index.isocalendar().week]).mean()\n",
        "    # serClimModel = all_df[varname].rolling(32,1,center=True).mean().groupby([all_df.index.isocalendar().week]).mean()\n",
        "    var_clim_dict = serClimModel.to_dict()\n",
        "    all_df[varname+'_clim']=all_df['week'].map(var_clim_dict)\n",
        "    all_df[varname+'_noclim']=all_df[varname]-all_df[varname+'_clim']\n",
        "    all_df[varname+'noclim_fill'] = all_df[varname+'_noclim'].interpolate(method='linear', limit=32,limit_area='inside', limit_direction='both')\n",
        "    all_df[varname+'_clim_fill'] =all_df[varname+'noclim_fill']+all_df[varname+'_clim']\n",
        "\n",
        "    # now conert back to ETo\n",
        "    if refeto == 'gridMET':\n",
        "      all_df[varname+'_linear_ET']=all_df[varname+'_linear']*all_df['eto']\n",
        "      all_df[varname+'_clim_fill_ET']=all_df[varname+'_clim_fill']*all_df['eto']\n",
        "      all_df[varname+'_Akima_ET']=all_df[varname+'_Akima']*all_df['eto']\n",
        "    elif refeto == 'site':\n",
        "      try:\n",
        "        all_df[varname+'_linear_ET']=all_df[varname+'_linear']*all_df['ASCE_ETo']\n",
        "        all_df[varname+'_clim_fill_ET']=all_df[varname+'_clim_fill']*all_df['ASCE_ETo']\n",
        "        all_df[varname+'_Akima_ET']=all_df[varname+'_Akima']*all_df['ASCE_ETo']\n",
        "      except:\n",
        "        all_df[varname+'_linear_ET']=all_df[varname+'_linear']*all_df['gridMET_ETo']\n",
        "        all_df[varname+'_clim_fill_ET']=all_df[varname+'_clim_fill']*all_df['gridMET_ETo']\n",
        "        all_df[varname+'_Akima_ET']=all_df[varname+'_Akima']*all_df['gridMET_ETo']\n",
        "      pass\n",
        "\n",
        "    else:\n",
        "      all_df[varname+'_linear_ET']=all_df[varname+'_linear']*all_df['gridMET_ETo']\n",
        "      all_df[varname+'_clim_fill_ET']=all_df[varname+'_clim_fill']*all_df['gridMET_ETo']\n",
        "      all_df[varname+'_Akima_ET']=all_df[varname+'_Akima']*all_df['gridMET_ETo']\n",
        "\n",
        "    return all_df\n",
        "\n",
        "\n",
        "verbose=True\n",
        "\n",
        "time_ags = ['MAM','JJA','SON','DJF','Annual','Growing']\n",
        "time_ag_dict ={'MAM':[3,4,5],\n",
        "              'JJA':[6,7,8],\n",
        "              'SON':[9,10,11],\n",
        "              'DJF':[12,1,2],\n",
        "              'Annual':[1,2,3,4,5,6,7,8,9,10,11,12],\n",
        "              'Growing':[4,5,6,7,8,9,10]}\n",
        "\n"
      ],
      "metadata": {
        "id": "xFwheP73LnVI"
      },
      "execution_count": 8,
      "outputs": []
    },
    {
      "cell_type": "code",
      "source": [
        "SITE_PATH   = 'data/'\n",
        "OUT_PATH   = 'results/'\n",
        "openETapikey = userdata.get('open_et_api_key')\n",
        "drive_ti_outpath = userdata.get('drive_ti_outath')\n",
        "\n",
        "all_stats_df = pd.DataFrame(columns=['Site_id','Obs_freq','Obs_freq_rep','Fill_Method','Temp','Bias', 'MAE', 'RMSE', 'R2', 'KT'])\n",
        "\n",
        "for filename in glob.glob('data/US-MM*.csv'):\n",
        "  print(filename)\n",
        "  try:\n",
        "    tower_i = ti.get_tower_data(filename.split('/')[-1], SITE_PATH, OUT_PATH, openETapikey,debug=False)\n",
        "    site_avail=True\n",
        "  except:\n",
        "    site_avail=False\n",
        "    print('\\t'+'site not available')\n",
        "  if site_avail:\n",
        "    all_df = tower_i.site_all_df.copy()\n",
        "    all_df = interp_var(all_df,varname = 'clear_sky_EToF')\n",
        "    all_df['openetof']=all_df['et']/all_df['eto']\n",
        "    all_df = interp_var(all_df,varname = 'openetof')\n",
        "\n",
        "    for i in [8,16,32,64]:\n",
        "      for j in np.arange(i):\n",
        "        out_list = ['freq_'+str(i), 'EToF_filt_'+str(i)+'_'+str(j)]\n",
        "        varname_ij = f'EToF_filtered{str(i)}_{str(j)}'\n",
        "        if verbose:\n",
        "          print('\\t'+varname_ij)\n",
        "        all_df_ij = all_df.copy()\n",
        "        all_df_ij = interp_var(all_df_ij,varname = varname_ij)\n",
        "        if j ==0:\n",
        "          all_df_ij.to_csv(OUT_PATH+'tables/'+tower_i.site_id+'_'+varname_ij+'data_for_figs.csv')\n",
        "          all_df_ij.to_csv(drive_ti_outpath+'/'+tower_i.site_id+'_'+varname_ij+'data_for_figs.csv')\n",
        "\n",
        "        for fmod in ['linear','Akima','clim_fill']:\n",
        "          varname_ijm = varname_ij+'_'+fmod+'_ET'\n",
        "          for temp_ag in time_ags:\n",
        "            all_df_ij_temp = all_df_ij.loc[all_df_ij.index.month.isin(time_ag_dict[temp_ag])]\n",
        "            try:\n",
        "              out_stats = stats.get_summary_stats(all_df_ij_temp[varname_ijm], all_df_ij_temp['ET_corr'])\n",
        "              all_stats_df.loc[len(all_stats_df.index)]=[tower_i.site_id]+out_list+[fmod,temp_ag]+out_stats\n",
        "            except:\n",
        "              print('\\t\\t'+varname_ijm+' not all stats able to be computed')\n",
        "              continue\n",
        "    all_stats_df.loc[all_stats_df['Site_id']==tower_i.site_id].to_csv(OUT_PATH+'tables/'+tower_i.site_id+'_stats.csv')\n",
        "    all_stats_df.loc[all_stats_df['Site_id']==tower_i.site_id].to_csv(drive_ti_outpath+'/'+tower_i.site_id+'_stats.csv')\n",
        "    plt.style.use('seaborn-v0_8')\n",
        "    plt.figure(figsize=(6,2.5))\n",
        "    tower_i.site_all_df.ET_corr.plot(color='lightgray',label='')\n",
        "    tower_i.site_all_df.et.plot(style='.',label='ET$_{OpenET}$')\n",
        "    tower_i.site_all_df.clear_sky_ET.plot(style='.',label='ET$_{EC_{clear sky}}$')\n",
        "    tower_i.site_all_df.ET_corr16_0.plot(style='.',label='ET$_{EC_{16}}$')\n",
        "    tower_i.site_all_df.ET_corr32_0.plot(style='.',label='ET$_{EC_{32}}$')\n",
        "    tower_i.site_all_df.ET_corr64_0.plot(style='.',label='ET$_{EC_{64}}$')\n",
        "    plt.title(tower_i.site_id)\n",
        "    plt.legend(frameon=False,ncol=1,bbox_to_anchor=(1,1))\n",
        "    plt.xlabel('')\n",
        "    plt.ylabel('ET (mm/day)')\n",
        "    plt.tight_layout()\n",
        "    plt.savefig(OUT_PATH+'figures/'+tower_i.site_id+'_ET_clear_sky.png')\n",
        "\n",
        "    plt.style.use('ggplot')\n",
        "    plt.figure(figsize=(6,2.5))\n",
        "    varname1 = 'clear_sky_EToF'\n",
        "    varname = 'openetof'\n",
        "    # tower_i.site_all_df.ASCE_ETo.plot(color='gray',label='',lw=5)\n",
        "    tower_i.site_all_df.ET_corr.plot(style='.',color='lightgray',label='')\n",
        "    all_df['clear_sky_EToF'+'_linear_ET'].plot(style='.',label='EC lin')\n",
        "    all_df[varname+'_linear_ET'].plot(style='.',label='OpenET lin')\n",
        "    all_df['clear_sky_EToF'+'_Akima_ET'].plot(style='.',label='Akima')\n",
        "    all_df[varname+'_clim_fill_ET'].plot(style='.',c='purple',markersize=6,label=varname +' Clim Fill')\n",
        "    tower_i.site_all_df.et.plot(style='.',label='ET$_{OpenET}$')\n",
        "    tower_i.site_all_df.clear_sky_ET.plot(style='.',label='ET$_{EC_{clear sky}}$')\n",
        "    plt.title(tower_i.site_id)\n",
        "    plt.legend(frameon=False,ncol=1,bbox_to_anchor=(1,1))\n",
        "    plt.xlabel('')\n",
        "    plt.ylabel('ET (mm/day)')\n",
        "    plt.tight_layout()\n",
        "    plt.savefig(OUT_PATH+'figures/'+tower_i.site_id+'_interp_method_comp.png')\n",
        "\n",
        "all_stats_df.to_csv(OUT_PATH + 'tables/' + 'all_site_stats.csv')\n",
        "all_stats_df.to_csv(drive_ti_outpath + '/' + 'all_site_stats.csv')\n",
        "\n"
      ],
      "metadata": {
        "colab": {
          "base_uri": "https://localhost:8080/"
        },
        "id": "pkCmIUZyIhxm",
        "outputId": "b5c81fd4-9995-44ca-9824-ce277f2ea3f4"
      },
      "execution_count": 14,
      "outputs": [
        {
          "output_type": "stream",
          "name": "stdout",
          "text": [
            "data/US-MMS_daily_data.csv\n",
            "\tsite not available\n"
          ]
        }
      ]
    },
    {
      "cell_type": "code",
      "source": [],
      "metadata": {
        "id": "RF28LAOhdb5N"
      },
      "execution_count": null,
      "outputs": []
    },
    {
      "cell_type": "code",
      "source": [],
      "metadata": {
        "id": "dtE0mHNXQmXD"
      },
      "execution_count": null,
      "outputs": []
    },
    {
      "cell_type": "markdown",
      "source": [],
      "metadata": {
        "id": "zVSfj1zue9Ui"
      }
    },
    {
      "cell_type": "code",
      "source": [
        "# temp_ag = 'SON'\n",
        "# for meth in ['linear','Akima','clim_fill']:\n",
        "#   print()\n",
        "#   print(meth)\n",
        "#   for f in [8,16,32]:\n",
        "#     print()\n",
        "#     print(f)\n",
        "#     print(all_stats_df.loc[(all_stats_df['Obs_freq']==f'freq_{f}')&(all_stats_df['Fill_Method']==meth)&(all_stats_df['Temp']==temp_ag)][['Bias','MAE']].mean())"
      ],
      "metadata": {
        "id": "YE4ERG0NQZVa"
      },
      "execution_count": 142,
      "outputs": []
    },
    {
      "cell_type": "code",
      "source": [
        "# for temp_ag in time_ags:\n",
        "#   for mod in ['linear','Akima','clim_fill']:\n",
        "#     for i in [8]:\n",
        "#         print(mod,temp_ag, 'freq', i)\n",
        "#         print(all_stats_df.loc[(all_stats_df['Fill_Method']==mod) & (all_stats_df['Obs_freq']==f'freq_{i}') & (all_stats_df['Temp']==temp_ag)][['Bias','MAE','RMSE','R2']].mean())\n",
        "#         print('\\n\\n')\n"
      ],
      "metadata": {
        "id": "S2JVdLZBEtRz"
      },
      "execution_count": 137,
      "outputs": []
    },
    {
      "cell_type": "code",
      "source": [
        "# all_stats_df.loc[(all_stats_df['Fill_Method']=='linear')&(all_stats_df['Obs_freq']=='freq_16')]\n",
        "# all_stats_df.loc[(all_stats_df['Fill_Method']=='linear')&(all_stats_df['Obs_freq']=='freq_32')]"
      ],
      "metadata": {
        "id": "2dFGd1VYfYvQ"
      },
      "execution_count": 138,
      "outputs": []
    },
    {
      "cell_type": "code",
      "source": [
        "# # varname = 'clear_sky_EToF'\n",
        "# fig,axs = plt.subplots(3,1,figsize=(3,8),sharex=True)\n",
        "# ones = np.arange(-1,10,0.1)\n",
        "# axs[0].plot(ones,ones,'k--')\n",
        "# all_df.plot.scatter(x='ET_corr',y=varname1+'_clim_fill_ET',ax=axs[0])\n",
        "# axs[1].plot(ones,ones,'k--')\n",
        "# all_df.plot.scatter(x='ET_corr',y=varname1+'_linear_ET',ax=axs[1])\n",
        "# axs[2].plot(ones,ones,'k--')\n",
        "# all_df.plot.scatter(x='ET_corr',y=varname+'_linear_ET',ax=axs[2])\n",
        "# axs[2].set_xlabel('ET$_{obs}$ (mm/day)')"
      ],
      "metadata": {
        "id": "5JZSzsi_KEy4"
      },
      "execution_count": 141,
      "outputs": []
    },
    {
      "cell_type": "code",
      "source": [
        "# print('\\n\\n')\n",
        "# print(varname1,' linear')\n",
        "# print(all_df['ET_corr'].mask(np.isnan(all_df[varname1+'_linear_ET']), np.nan).mean())\n",
        "# a = stats.get_summary_stats(all_df[varname1+'_linear_ET'],all_df['ET_corr'])\n",
        "# print(a)\n",
        "\n",
        "# print('\\n\\n')\n",
        "# print(varname,' linear')\n",
        "# print(all_df['ET_corr'].mask(np.isnan(all_df[varname+'_linear_ET']), np.nan).mean())\n",
        "# b = stats.get_summary_stats(all_df[varname+'_linear_ET'],all_df['ET_corr'])\n",
        "# print(b)\n",
        "# print('\\n\\n')\n",
        "# print(varname, 'clim')\n",
        "# print(all_df['ET_corr'].mask(np.isnan(all_df[varname+'_clim_fill_ET']), np.nan).mean())\n",
        "# c = stats.get_summary_stats(all_df[varname+'_clim_fill_ET'],all_df['ET_corr'])\n",
        "\n",
        "# print('\\n\\n')\n",
        "# print(varname, 'Akima')\n",
        "# print(all_df['ET_corr'].mask(np.isnan(all_df[varname+'_Akima_ET']), np.nan).mean())\n",
        "# d = stats.get_summary_stats(all_df[varname+'_Akima_ET'],all_df['ET_corr'])\n"
      ],
      "metadata": {
        "id": "Zh60U_1MvGMp"
      },
      "execution_count": 139,
      "outputs": []
    },
    {
      "cell_type": "code",
      "source": [
        "# for i in np.arange(8):\n",
        "#   print(i)\n",
        "#   plt.figure(figsize = (6,3))\n",
        "#   all_df.EToF_filtered.plot(c='black')\n",
        "#   all_df[f'EToF_filtered8_{i}'].plot(style='o',markersize=4)\n",
        "#   # all_df[f'etof8_'{str(i)}]=all_df[i::8]\n",
        "#   # all_df[i::16].EToF_filtered.plot(style='o',markersize=3)\n",
        "#   # all_df[i::32].EToF_filtered.plot(style='o',markersize=2)\n",
        "#   plt.title(str(i))"
      ],
      "metadata": {
        "id": "Lr3Tw1vdxtiq"
      },
      "execution_count": 140,
      "outputs": []
    }
  ]
}